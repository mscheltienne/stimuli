{
  "cells": [
    {
      "cell_type": "markdown",
      "metadata": {},
      "source": [
        "\n# Colored noise\n\nA noise signal is produced by a stochastic process. The color of noise, also\ncalled the noise spectrum, refers to the power spectrum of a noise signal.\n\nThe practice of naming kinds of noise after colors started with white noise,\na signal whose spectrum has equal power within any equal interval of\nfrequencies. That name was given by analogy with white light, which was\n(incorrectly) assumed to have such a flat power spectrum over the visible\nrange. Other color names, such as ``pink``, ``red``, and ``blue`` were then\ngiven to noise with other spectral profiles, often (but not always) in\nreference to the color of light with similar spectra. Some of those names\nhave standard definitions in certain disciplines, while others are very\ninformal and poorly defined.\n\nSource: [Wikipedia](https://en.wikipedia.org/wiki/Colors_of_noise)\n"
      ]
    },
    {
      "cell_type": "code",
      "execution_count": null,
      "metadata": {
        "collapsed": false
      },
      "outputs": [],
      "source": [
        "import numpy as np\nfrom matplotlib import pyplot as plt\n\nfrom stimuli.audio import Noise"
      ]
    },
    {
      "cell_type": "markdown",
      "metadata": {},
      "source": [
        "In this tutorial, we will create and plot the power spectrum of different\nnoise colors. ``stimuli`` implements several noise color in\n:class:`~stimuli.audio.Noise`. Refer to the documentation of the ``color``\nargument for available colors.\n\n"
      ]
    },
    {
      "cell_type": "code",
      "execution_count": null,
      "metadata": {
        "collapsed": false
      },
      "outputs": [],
      "source": [
        "colors = (\"white\", \"pink\", \"blue\", \"violet\", \"brown\")\nsounds = dict()\nfor color in colors:\n    # identical volume on all audio channels\n    sounds[color] = Noise(color=color, volume=10, duration=1)"
      ]
    },
    {
      "cell_type": "markdown",
      "metadata": {},
      "source": [
        "We can listen to each individual noise by playing each sound with\n:meth:`~stimuli.audio.Noise.play`.\n\n"
      ]
    },
    {
      "cell_type": "code",
      "execution_count": null,
      "metadata": {
        "collapsed": false
      },
      "outputs": [],
      "source": [
        "for sound in sounds.values():\n    sound.play(blocking=True)"
      ]
    },
    {
      "cell_type": "markdown",
      "metadata": {},
      "source": [
        "The underlying signal is stored in the :py:attr:`stimuli.audio.Noise.signal`\nproperty, a numpy :class:`~numpy.ndarray` of shape ``(n_samples, n_channels)``. In\nthis case, the sound was set to mono so the signal has shape ``(n_samples, 1)``.\n\n"
      ]
    },
    {
      "cell_type": "code",
      "execution_count": null,
      "metadata": {
        "collapsed": false
      },
      "outputs": [],
      "source": [
        "plt.figure(layout=\"constrained\")\nfor color in colors:\n    signal = sounds[color].signal.squeeze()\n    # compute the one-dimensional discrete fourier transform\n    frequencies = np.fft.rfftfreq(signal.size)\n    dft = np.abs(np.fft.rfft(signal))\n    # plot with log scaling on both X and Y axis\n    plt.loglog(frequencies, dft)\nplt.legend(colors)\nplt.ylim([1e-3, None])\nplt.show()"
      ]
    }
  ],
  "metadata": {
    "kernelspec": {
      "display_name": "Python 3",
      "language": "python",
      "name": "python3"
    },
    "language_info": {
      "codemirror_mode": {
        "name": "ipython",
        "version": 3
      },
      "file_extension": ".py",
      "mimetype": "text/x-python",
      "name": "python",
      "nbconvert_exporter": "python",
      "pygments_lexer": "ipython3",
      "version": "3.11.12"
    }
  },
  "nbformat": 4,
  "nbformat_minor": 0
}