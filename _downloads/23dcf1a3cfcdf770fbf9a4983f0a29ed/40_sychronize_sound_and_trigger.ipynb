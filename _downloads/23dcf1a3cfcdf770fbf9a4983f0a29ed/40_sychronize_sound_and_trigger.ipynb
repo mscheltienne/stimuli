{
  "cells": [
    {
      "cell_type": "markdown",
      "metadata": {},
      "source": [
        "\n# Synchronize sound and trigger\n\nOften, a trigger must be emitted simultenously with a sound onset, with as little delay\nand jitter as possible. With ``stimuli``, similarly to ``psychtoolbox``, the key concept\nis to schedule the sound.\n\nFirst, let's have a look at our default device latency.\n"
      ]
    },
    {
      "cell_type": "code",
      "execution_count": null,
      "metadata": {
        "collapsed": false
      },
      "outputs": [],
      "source": [
        "import sounddevice as sd\n\nfrom stimuli.audio import SoundAM\nfrom stimuli.time import sleep\nfrom stimuli.trigger import MockTrigger\n\nidx = sd.default.device[\"output\"]\nprint(f\"Low-latency (s): {sd.query_devices()[idx]['default_low_output_latency']}\")"
      ]
    },
    {
      "cell_type": "markdown",
      "metadata": {},
      "source": [
        "Next, we can schedule a sound with the argument ``when`` which will use the clock\nprovided in the argument ``clock`` to schedule the sound. Then, we wait for this\nduration to elapse before sending the trigger.\n\n"
      ]
    },
    {
      "cell_type": "code",
      "execution_count": null,
      "metadata": {
        "collapsed": false
      },
      "outputs": [],
      "source": [
        "trigger = MockTrigger()  # replace with your trigger object\nsound = SoundAM(\n    frequency_carrier=1000,\n    frequency_modulation=40,\n    method=\"dsbsc\",\n    volume=10,\n    duration=1,\n)\nsound.play(when=0.5, blocking=False)\nsleep(0.5)\ntrigger.signal(1)"
      ]
    },
    {
      "cell_type": "markdown",
      "metadata": {},
      "source": [
        "A quick measurement on a dual-boot Windows/Linux computer connected to a USB Crimson 3\nsoundcard shows that the delay and jitter of ``stimuli`` are similar to\n``psychtoolbox`` on linux.\n\n<img src=\"file://../../_static/performance.png\" align=\"center\">\n\nOn different computers with different soundcards, the performance may vary. For\ninstance, with on-board soundcards on Linux, both psychtoolbox and stimuli are usually\nperfectly synchronized with the trigger. In the end, the performance should always be\nmeasured on the target system.\n\n```python\nfrom stimuli.audio import Tone\nfrom stimuli.time import sleep\nfrom stimuli.trigger import ParallelPortTrigger\n\nsound = Tone(frequency=440, volume=100, duration=0.3)\ntrigger = ParallelPortTrigger(\"/dev/parport0\")\n\nfor k in range(10):\n    sound.play(when=0.2)\n    sleep(0.2)\n    trigger.signal(1)\n    sleep(0.5)\n```\n"
      ]
    }
  ],
  "metadata": {
    "kernelspec": {
      "display_name": "Python 3",
      "language": "python",
      "name": "python3"
    },
    "language_info": {
      "codemirror_mode": {
        "name": "ipython",
        "version": 3
      },
      "file_extension": ".py",
      "mimetype": "text/x-python",
      "name": "python",
      "nbconvert_exporter": "python",
      "pygments_lexer": "ipython3",
      "version": "3.11.12"
    }
  },
  "nbformat": 4,
  "nbformat_minor": 0
}