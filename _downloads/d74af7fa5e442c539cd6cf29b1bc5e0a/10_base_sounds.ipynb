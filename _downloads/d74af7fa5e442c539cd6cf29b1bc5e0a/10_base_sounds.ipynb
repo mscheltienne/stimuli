{
  "cells": [
    {
      "cell_type": "markdown",
      "metadata": {},
      "source": [
        "\n# Base sounds\n\n``stimuli`` provides a common API for audio stimuli. The audio\nstimuli can be either generated or loaded. A generated stimuli can be exported.\nThe volume, duration and other properties can be set when creating the stimuli\nor updated between plays.\n"
      ]
    },
    {
      "cell_type": "code",
      "execution_count": null,
      "metadata": {
        "collapsed": false
      },
      "outputs": [],
      "source": [
        "from pathlib import Path\nfrom tempfile import TemporaryDirectory\n\nfrom matplotlib import pyplot as plt\n\nfrom stimuli.audio import Sound, Tone"
      ]
    },
    {
      "cell_type": "markdown",
      "metadata": {},
      "source": [
        "In this tutorial, we will create, edit, save and load a pure tone auditory\nstimuli. A pure tone is a signal with a sinusoidal waveform, that is a sine\nwave of any frequency, phase-shift and amplitude.\n\nSource: [Wikipedia](https://en.wikipedia.org/wiki/Pure_tone)\n\n"
      ]
    },
    {
      "cell_type": "markdown",
      "metadata": {},
      "source": [
        "## Create and edit a pure tone\n\nTo create the stimuli, we create a :class:`~stimuli.audio.Tone` object with\na given volume and frequency.\n\n"
      ]
    },
    {
      "cell_type": "code",
      "execution_count": null,
      "metadata": {
        "collapsed": false
      },
      "outputs": [],
      "source": [
        "sound = Tone(frequency=440, volume=10, duration=0.1)  # La - A440"
      ]
    },
    {
      "cell_type": "markdown",
      "metadata": {},
      "source": [
        "We can listen to the sound we created with :meth:`~stimuli.audio.Tone.play`.\n\n"
      ]
    },
    {
      "cell_type": "code",
      "execution_count": null,
      "metadata": {
        "collapsed": false
      },
      "outputs": [],
      "source": [
        "sound.play(blocking=True)"
      ]
    },
    {
      "cell_type": "markdown",
      "metadata": {},
      "source": [
        "We can edit the sound properties by replacing the value in the properties.\nFor instance, let's increase the volume and change the frequency.\n\n"
      ]
    },
    {
      "cell_type": "code",
      "execution_count": null,
      "metadata": {
        "collapsed": false
      },
      "outputs": [],
      "source": [
        "sound.volume = 50  # percentage between 0 and 100\nsound.frequency = 1000  # Hz"
      ]
    },
    {
      "cell_type": "markdown",
      "metadata": {},
      "source": [
        "The sound is updated each time an attribute is changed.\n\n"
      ]
    },
    {
      "cell_type": "code",
      "execution_count": null,
      "metadata": {
        "collapsed": false
      },
      "outputs": [],
      "source": [
        "sound.play(blocking=True)"
      ]
    },
    {
      "cell_type": "markdown",
      "metadata": {},
      "source": [
        "## Export/Load a sound\n\nWe can export a sound with :meth:`~stimuli.audio.Tone.save` and load a sound with\n:class:`~stimuli.audio.Sound`.\n\n"
      ]
    },
    {
      "cell_type": "code",
      "execution_count": null,
      "metadata": {
        "collapsed": false
      },
      "outputs": [],
      "source": [
        "with TemporaryDirectory() as directory:\n    fname = Path(directory) / \"my_pure_tone.wav\"\n    sound.save(fname, overwrite=True)\n    sound_loaded = Sound(fname)\nsound_loaded.play(blocking=True)"
      ]
    },
    {
      "cell_type": "markdown",
      "metadata": {},
      "source": [
        "However, a loaded sound can be any type of sound. ``stimuli`` does not\nknow that the sound was exported with the ``save()`` method of one of its\nclass. As such, the attributes that were specific to the original sound are\nnot present anymore and can not be updated anymore.\n\n"
      ]
    },
    {
      "cell_type": "code",
      "execution_count": null,
      "metadata": {
        "collapsed": false
      },
      "outputs": [],
      "source": [
        "print(hasattr(sound_loaded, \"frequency\"))"
      ]
    },
    {
      "cell_type": "markdown",
      "metadata": {},
      "source": [
        "Only the basic attributes are preserved: ``duration``, ``sample_rate``.\n\n"
      ]
    },
    {
      "cell_type": "code",
      "execution_count": null,
      "metadata": {
        "collapsed": false
      },
      "outputs": [],
      "source": [
        "print(f\"Duration of the original sound: {sound.duration} second.\")\nprint(f\"Duration of the loaded sound: {sound_loaded.duration} second.\")\nprint(f\"Sample rate of the original sound: {sound.sample_rate} Hz.\")\nprint(f\"Sample rate of the loaded sound: {sound_loaded.sample_rate} Hz.\")"
      ]
    },
    {
      "cell_type": "markdown",
      "metadata": {},
      "source": [
        "The volume is normalized, with the loudest channel set to ``100``. The ratio\nbetween channels is preserved.\n\n"
      ]
    },
    {
      "cell_type": "code",
      "execution_count": null,
      "metadata": {
        "collapsed": false
      },
      "outputs": [],
      "source": [
        "print(f\"Volume of the original sound: {sound.volume}.\")\nprint(f\"Volume of the loaded sound: {sound_loaded.volume}.\")"
      ]
    },
    {
      "cell_type": "markdown",
      "metadata": {},
      "source": [
        "## Visualize a sound\n\nFinally, the underlying signal is stored in the ``signal`` property, a numpy array of\nshape ``(n_samples, n_channels)``. We can plot the signal of each channel.\n\n"
      ]
    },
    {
      "cell_type": "code",
      "execution_count": null,
      "metadata": {
        "collapsed": false
      },
      "outputs": [],
      "source": [
        "samples_to_plot = 100  # number of samples to plot\ntimes = sound.times[:samples_to_plot] * 1000  # ms\n\nf, ax = plt.subplots(1, 1, layout=\"constrained\")\nax.plot(times, sound.signal.squeeze()[:samples_to_plot])  # draw data\nax.axhline(0, color=\"black\")  # draw horizontal line through y=0\n\n# labels\nax.set_title(\"Signal (mono)\")\nax.set_xlabel(\"Time (ms)\")\n\n# draw vertical line after each period\nperiod = int(sound.sample_rate / sound.frequency)\nfor k in range(0, samples_to_plot, period):\n    ax.axvline(times[k], color=\"lightgreen\")\n\nplt.show()"
      ]
    },
    {
      "cell_type": "markdown",
      "metadata": {},
      "source": [
        "Or with the convenient :meth:`~stimuli.audio.Tone.plot` method.\n\n"
      ]
    },
    {
      "cell_type": "code",
      "execution_count": null,
      "metadata": {
        "collapsed": false
      },
      "outputs": [],
      "source": [
        "sound.plot()\nplt.show()"
      ]
    }
  ],
  "metadata": {
    "kernelspec": {
      "display_name": "Python 3",
      "language": "python",
      "name": "python3"
    },
    "language_info": {
      "codemirror_mode": {
        "name": "ipython",
        "version": 3
      },
      "file_extension": ".py",
      "mimetype": "text/x-python",
      "name": "python",
      "nbconvert_exporter": "python",
      "pygments_lexer": "ipython3",
      "version": "3.11.12"
    }
  },
  "nbformat": 4,
  "nbformat_minor": 0
}